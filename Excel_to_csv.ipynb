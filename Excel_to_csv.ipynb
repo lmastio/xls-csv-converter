{
  "nbformat": 4,
  "nbformat_minor": 0,
  "metadata": {
    "colab": {
      "provenance": []
    },
    "kernelspec": {
      "name": "python3",
      "display_name": "Python 3"
    },
    "language_info": {
      "name": "python"
    }
  },
  "cells": [
    {
      "cell_type": "code",
      "execution_count": null,
      "metadata": {
        "id": "YCZ7PeFukWAO"
      },
      "outputs": [],
      "source": [
        "# xls_to_csv_converter.ipynb\n",
        "\n",
        "import pandas as pd\n",
        "import io\n",
        "import ipywidgets as widgets\n",
        "from IPython.display import display\n",
        "from pathlib import Path\n",
        "import pyexcel as pe\n",
        "\n",
        "# Création du widget d'upload\n",
        "upload = widgets.FileUpload(accept='.xls', multiple=True)\n",
        "display(upload)\n",
        "\n",
        "# Fonction de nettoyage des noms de colonnes\n",
        "def clean_column_name(name):\n",
        "    if str(name).strip().lower() == \"quantité\":\n",
        "        return \"qte\"\n",
        "    return name\n",
        "\n",
        "# Fonction de conversion à lancer à l'upload du fichier\n",
        "def on_upload_change(change):\n",
        "    if upload.value:\n",
        "        for filedata in upload.value:\n",
        "            filename = filedata['name']\n",
        "            content = io.BytesIO(filedata['content'])\n",
        "\n",
        "            try:\n",
        "                # Lire le fichier .xls avec pyexcel\n",
        "                book = pe.get_book(file_type=\"xls\", file_stream=content)\n",
        "                sheet = book[0]  # première feuille\n",
        "\n",
        "                data = list(sheet.rows())\n",
        "                if not data:\n",
        "                    raise ValueError(\"Feuille vide\")\n",
        "\n",
        "                headers = data[0]\n",
        "                rows = data[1:]\n",
        "\n",
        "                df = pd.DataFrame(rows, columns=headers)\n",
        "\n",
        "                # Renommer les colonnes si nécessaire\n",
        "                df.columns = [clean_column_name(col) for col in df.columns]\n",
        "\n",
        "                # Convertir les floats en int si applicable\n",
        "                for col in df.columns:\n",
        "                    df[col] = df[col].apply(lambda x: int(x) if isinstance(x, float) and x.is_integer() else x)\n",
        "\n",
        "                # Enregistrer en CSV (ANSI / cp1252)\n",
        "                output_path = Path(f\"{Path(filename).stem}.csv\")\n",
        "                df.to_csv(output_path, index=False, sep=';', encoding='cp1252')\n",
        "                print(f\"\\n✅ Fichier converti avec succès : {output_path}\")\n",
        "\n",
        "            except Exception as e:\n",
        "                print(f\"\\n❌ Erreur lors de la lecture/conversion : {e}\")\n",
        "\n",
        "# Attacher l'événement\n",
        "upload.observe(on_upload_change, names='value')"
      ]
    }
  ]
}
