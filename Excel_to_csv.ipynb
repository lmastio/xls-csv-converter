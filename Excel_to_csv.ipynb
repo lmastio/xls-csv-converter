{
 "cells": [
  {
   "cell_type": "code",
   "execution_count": 3,
   "id": "21cfcce2-69aa-425c-94e7-e2534967cff9",
   "metadata": {},
   "outputs": [
    {
     "data": {
      "application/vnd.jupyter.widget-view+json": {
       "model_id": "f4a972aab5d54e47abce19a22dce6b47",
       "version_major": 2,
       "version_minor": 0
      },
      "text/plain": [
       "FileUpload(value=(), accept='.xls', description='Upload', multiple=True)"
      ]
     },
     "metadata": {},
     "output_type": "display_data"
    }
   ],
   "source": [
    "import pandas as pd\n",
    "import io\n",
    "import ipywidgets as widgets\n",
    "from IPython.display import display, HTML, FileLink\n",
    "from pathlib import Path\n",
    "import pyexcel as pe\n",
    "import base64\n",
    "import zipfile\n",
    "\n",
    "# Étape 1 : Création du widget d'upload\n",
    "upload = widgets.FileUpload(accept='.xls', multiple=True)\n",
    "display(upload)\n",
    "\n",
    "# Étape 2 : Fonction de nettoyage\n",
    "def clean_column_name(name):\n",
    "    return \"qte\" if str(name).strip().lower() == \"quantité\" else name\n",
    "\n",
    "# Étape 3 : Conversion et stockage des fichiers\n",
    "converted_files = []\n",
    "\n",
    "def on_upload_change(change):\n",
    "    if upload.value:\n",
    "        converted_files.clear()  # Nettoyer la liste à chaque nouvelle importation\n",
    "        for filedata in upload.value:\n",
    "            filename = filedata['name']\n",
    "            content = io.BytesIO(filedata['content'])\n",
    "\n",
    "            try:\n",
    "                book = pe.get_book(file_type=\"xls\", file_stream=content)\n",
    "                sheet = book[0]\n",
    "\n",
    "                data = list(sheet.rows())\n",
    "                if not data:\n",
    "                    raise ValueError(\"Feuille vide\")\n",
    "\n",
    "                headers = data[0]\n",
    "                rows = data[1:]\n",
    "                df = pd.DataFrame(rows, columns=headers)\n",
    "\n",
    "                # Nettoyage des colonnes\n",
    "                df.columns = [clean_column_name(col) for col in df.columns]\n",
    "\n",
    "                # Conversion float → int si applicable\n",
    "                for col in df.columns:\n",
    "                    df[col] = df[col].apply(lambda x: int(x) if isinstance(x, float) and x.is_integer() else x)\n",
    "\n",
    "                # Enregistrement en fichier CSV (sur disque pour le zippage)\n",
    "                output_filename = f\"{Path(filename).stem}.csv\"\n",
    "                df.to_csv(output_filename, index=False, sep=';', encoding='cp1252', lineterminator='\\r\\n')\n",
    "                converted_files.append(output_filename)\n",
    "\n",
    "                print(f\"✅ Fichier converti : {output_filename}\")\n",
    "\n",
    "            except Exception as e:\n",
    "                print(f\"❌ Erreur pour {filename} : {e}\")\n",
    "\n",
    "        # Une fois toutes les conversions faites, créer le zip\n",
    "        if converted_files:\n",
    "            zip_name = \"fichiers_convertis.zip\"\n",
    "            with zipfile.ZipFile(zip_name, 'w') as zipf:\n",
    "                for file in converted_files:\n",
    "                    zipf.write(file, arcname=file)\n",
    "            print(f\"\\n📦 Archive créée : {zip_name}\")\n",
    "            display(FileLink(zip_name))\n",
    "\n",
    "# Étape 4 : Attacher l'événement\n",
    "upload.observe(on_upload_change, names='value')\n"
   ]
  },
  {
   "cell_type": "code",
   "execution_count": null,
   "id": "1303dce3-37b2-4cc6-9f35-eb36cca2f880",
   "metadata": {},
   "outputs": [],
   "source": []
  }
 ],
 "metadata": {
  "kernelspec": {
   "display_name": "Python 3 (ipykernel)",
   "language": "python",
   "name": "python3"
  },
  "language_info": {
   "codemirror_mode": {
    "name": "ipython",
    "version": 3
   },
   "file_extension": ".py",
   "mimetype": "text/x-python",
   "name": "python",
   "nbconvert_exporter": "python",
   "pygments_lexer": "ipython3",
   "version": "3.10.16"
  }
 },
 "nbformat": 4,
 "nbformat_minor": 5
}
