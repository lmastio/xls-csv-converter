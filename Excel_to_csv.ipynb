{
 "cells": [
  {
   "cell_type": "code",
   "execution_count": 2,
   "id": "a5b25a65-0c2c-4742-bc98-5ccec983475a",
   "metadata": {},
   "outputs": [
    {
     "data": {
      "application/vnd.jupyter.widget-view+json": {
       "model_id": "4f0bf5b4247d4165819c19fa797711ed",
       "version_major": 2,
       "version_minor": 0
      },
      "text/plain": [
       "FileUpload(value=(), accept='.xls', description='Upload', multiple=True)"
      ]
     },
     "metadata": {},
     "output_type": "display_data"
    }
   ],
   "source": [
    "import pandas as pd\n",
    "import io\n",
    "import ipywidgets as widgets\n",
    "from IPython.display import display, HTML, FileLink, clear_output\n",
    "from pathlib import Path\n",
    "import pyexcel as pe\n",
    "import zipfile\n",
    "\n",
    "# Widget upload (tu dois cliquer sur \"Choose Files\" pour sélectionner)\n",
    "upload = widgets.FileUpload(accept='.xls', multiple=True)\n",
    "display(upload)\n",
    "\n",
    "def clean_column_name(name):\n",
    "    return \"qte\" if str(name).strip().lower() == \"quantité\" else name\n",
    "\n",
    "converted_files = []\n",
    "\n",
    "def is_real_xls(content_bytes):\n",
    "    # Signature d'un vrai fichier XLS (Microsoft Compound File)\n",
    "    return content_bytes[:4] == b'\\xD0\\xCF\\x11\\xE0'\n",
    "\n",
    "def on_upload_change(change):\n",
    "    clear_output(wait=True)\n",
    "    display(upload)  # pour que le widget reste visible après upload\n",
    "\n",
    "    if not upload.value:\n",
    "        print(\"Aucun fichier sélectionné.\")\n",
    "        return\n",
    "\n",
    "    converted_files.clear()\n",
    "\n",
    "    for filedata in upload.value:\n",
    "        filename = filedata['name']\n",
    "        content_bytes = bytes(filedata['content'])  # conversion memoryview → bytes\n",
    "\n",
    "        print(f\"\\nTraitement du fichier {filename}...\")\n",
    "\n",
    "        try:\n",
    "            if is_real_xls(content_bytes):\n",
    "                print(\"Détection : vrai fichier XLS.\")\n",
    "                book = pe.get_book(file_type=\"xls\", file_stream=io.BytesIO(content_bytes))\n",
    "                sheet = book[0]\n",
    "                data = list(sheet.rows())\n",
    "                if not data:\n",
    "                    raise ValueError(\"Feuille vide\")\n",
    "\n",
    "                headers = data[0]\n",
    "                rows = data[1:]\n",
    "                df = pd.DataFrame(rows, columns=headers)\n",
    "\n",
    "            else:\n",
    "                print(\"Détection : fichier non XLS, lecture en CSV tabulé.\")\n",
    "                try:\n",
    "                    text = content_bytes.decode('utf-8')\n",
    "                except UnicodeDecodeError:\n",
    "                    text = content_bytes.decode('cp1252')\n",
    "\n",
    "                from io import StringIO\n",
    "                df = pd.read_csv(StringIO(text), sep='\\t')\n",
    "\n",
    "            df.columns = [clean_column_name(col) for col in df.columns]\n",
    "\n",
    "            for col in df.columns:\n",
    "                df[col] = df[col].apply(lambda x: int(x) if isinstance(x, float) and x.is_integer() else x)\n",
    "\n",
    "            output_filename = f\"{Path(filename).stem}.csv\"\n",
    "            df.to_csv(output_filename, index=False, sep=';', encoding='cp1252', lineterminator='\\r\\n')\n",
    "            print(f\"Fichier CSV sauvegardé : {output_filename}, existe ? {Path(output_filename).exists()}\")\n",
    "            converted_files.append(output_filename)\n",
    "\n",
    "            print(f\"✅ Fichier converti : {output_filename}\")\n",
    "\n",
    "        except Exception as e:\n",
    "            print(f\"❌ Erreur pour {filename} : {e}\")\n",
    "\n",
    "    if converted_files:\n",
    "        zip_name = \"fichiers_convertis.zip\"\n",
    "        with zipfile.ZipFile(zip_name, 'w') as zipf:\n",
    "            for file in converted_files:\n",
    "                print(f\"Ajout de {file} dans l'archive...\")\n",
    "                zipf.write(file, arcname=file)\n",
    "        print(f\"\\n📦 Archive créée : {zip_name}\")\n",
    "        display(FileLink(zip_name))\n",
    "        display(HTML(f'<a href=\"{zip_name}\" target=\"_blank\" download>Télécharger l\\'archive ZIP</a>'))\n",
    "    else:\n",
    "        print(\"Aucun fichier converti, pas d'archive créée.\")\n",
    "\n",
    "upload.observe(on_upload_change, names='value')\n"
   ]
  },
  {
   "cell_type": "code",
   "execution_count": null,
   "id": "8e57a9ef-1e32-4bae-a0f3-593de80e2448",
   "metadata": {},
   "outputs": [],
   "source": []
  }
 ],
 "metadata": {
  "kernelspec": {
   "display_name": "Python 3 (ipykernel)",
   "language": "python",
   "name": "python3"
  },
  "language_info": {
   "codemirror_mode": {
    "name": "ipython",
    "version": 3
   },
   "file_extension": ".py",
   "mimetype": "text/x-python",
   "name": "python",
   "nbconvert_exporter": "python",
   "pygments_lexer": "ipython3",
   "version": "3.10.16"
  }
 },
 "nbformat": 4,
 "nbformat_minor": 5
}
